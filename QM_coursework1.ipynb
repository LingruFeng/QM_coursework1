{
 "cells": [
  {
   "cell_type": "code",
   "execution_count": 93,
   "metadata": {},
   "outputs": [],
   "source": [
    "#https://blog.csdn.net/u013610563/article/details/77527507\n",
    "#https://blog.csdn.net/weixin_40327927/article/details/88584084?utm_medium=distribute.pc_relevant_t0.none-task-blog-BlogCommendFromMachineLearnPai2-1.edu_weight&depth_1-utm_source=distribute.pc_relevant_t0.none-task-blog-BlogCommendFromMachineLearnPai2-1.edu_weight\n",
    "import pandas as pd\n",
    "import numpy as np\n",
    "import matplotlib.pyplot as plt\n",
    "import statsmodels.api as sms"
   ]
  },
  {
   "cell_type": "code",
   "execution_count": 82,
   "metadata": {},
   "outputs": [],
   "source": [
    "# Read csv file\n",
    "df = pd.read_csv('coursework_1_data_2019.csv')"
   ]
  },
  {
   "cell_type": "code",
   "execution_count": 86,
   "metadata": {},
   "outputs": [
    {
     "data": {
      "text/plain": [
       "(152, 19)"
      ]
     },
     "execution_count": 86,
     "metadata": {},
     "output_type": "execute_result"
    }
   ],
   "source": [
    "# Drop the columns that are not relevant to the research \n",
    "df.drop(columns=['total_budget','clean_air','clean_environ','health_training',\n",
    "                 'school_awareness','media_awareness','sub_counselling','region','local_authority_type'], inplace=True)\n",
    "df.shape"
   ]
  },
  {
   "cell_type": "code",
   "execution_count": 87,
   "metadata": {},
   "outputs": [
    {
     "name": "stdout",
     "output_type": "stream",
     "text": [
      "<class 'pandas.core.frame.DataFrame'>\n",
      "RangeIndex: 152 entries, 0 to 151\n",
      "Data columns (total 19 columns):\n",
      " #   Column                Non-Null Count  Dtype \n",
      "---  ------                --------------  ----- \n",
      " 0   local_authority_area  152 non-null    object\n",
      " 1   2008_cases_total      152 non-null    int64 \n",
      " 2   2013_cases_total      152 non-null    int64 \n",
      " 3   2018_cases_total      152 non-null    int64 \n",
      " 4   2008_pop_total        152 non-null    int64 \n",
      " 5   2013_pop_total        152 non-null    int64 \n",
      " 6   2018_pop_total        152 non-null    int64 \n",
      " 7   2008_cases_male       152 non-null    int64 \n",
      " 8   2013_cases_male       152 non-null    int64 \n",
      " 9   2018_cases_male       152 non-null    int64 \n",
      " 10  2008_pop_male         152 non-null    int64 \n",
      " 11  2013_pop_male         152 non-null    int64 \n",
      " 12  2018_pop_male         152 non-null    int64 \n",
      " 13  2008_cases_female     152 non-null    int64 \n",
      " 14  2013_cases_female     152 non-null    int64 \n",
      " 15  2018_cases_female     152 non-null    int64 \n",
      " 16  2008_pop_female       152 non-null    int64 \n",
      " 17  2013_pop_female       152 non-null    int64 \n",
      " 18  2018_pop_female       152 non-null    int64 \n",
      "dtypes: int64(18), object(1)\n",
      "memory usage: 22.7+ KB\n"
     ]
    }
   ],
   "source": [
    "df.info()"
   ]
  },
  {
   "cell_type": "code",
   "execution_count": 88,
   "metadata": {},
   "outputs": [],
   "source": [
    "# Calculate the male and female obesity case number per 1,000 people\n",
    "# The data type of both datasets are interval\n",
    "df['2008_male_rate_per1000']=round(df['2008_cases_male']/df['2008_pop_male']*1000,2)\n",
    "df['2008_female_rate_per1000']=round(df['2008_cases_female']/df['2008_pop_female']*1000,2)\n",
    "df['2013_male_rate_per1000']=round(df['2013_cases_male']/df['2013_pop_male']*1000,2)\n",
    "df['2013_female_rate_per1000']=round(df['2013_cases_female']/df['2013_pop_female']*1000,2)\n",
    "df['2018_male_rate_per1000']=round(df['2018_cases_male']/df['2018_pop_male']*1000,2)\n",
    "df['2018_female_rate_per1000']=round(df['2018_cases_female']/df['2018_pop_female']*1000,2)"
   ]
  },
  {
   "cell_type": "code",
   "execution_count": 89,
   "metadata": {},
   "outputs": [
    {
     "data": {
      "text/html": [
       "<div>\n",
       "<style scoped>\n",
       "    .dataframe tbody tr th:only-of-type {\n",
       "        vertical-align: middle;\n",
       "    }\n",
       "\n",
       "    .dataframe tbody tr th {\n",
       "        vertical-align: top;\n",
       "    }\n",
       "\n",
       "    .dataframe thead th {\n",
       "        text-align: right;\n",
       "    }\n",
       "</style>\n",
       "<table border=\"1\" class=\"dataframe\">\n",
       "  <thead>\n",
       "    <tr style=\"text-align: right;\">\n",
       "      <th></th>\n",
       "      <th>local_authority_area</th>\n",
       "      <th>2008_cases_total</th>\n",
       "      <th>2013_cases_total</th>\n",
       "      <th>2018_cases_total</th>\n",
       "      <th>2008_pop_total</th>\n",
       "      <th>2013_pop_total</th>\n",
       "      <th>2018_pop_total</th>\n",
       "      <th>2008_cases_male</th>\n",
       "      <th>2013_cases_male</th>\n",
       "      <th>2018_cases_male</th>\n",
       "      <th>...</th>\n",
       "      <th>2018_cases_female</th>\n",
       "      <th>2008_pop_female</th>\n",
       "      <th>2013_pop_female</th>\n",
       "      <th>2018_pop_female</th>\n",
       "      <th>2008_male_rate_per1000</th>\n",
       "      <th>2008_female_rate_per1000</th>\n",
       "      <th>2013_male_rate_per1000</th>\n",
       "      <th>2013_female_rate_per1000</th>\n",
       "      <th>2018_male_rate_per1000</th>\n",
       "      <th>2018_female_rate_per1000</th>\n",
       "    </tr>\n",
       "  </thead>\n",
       "  <tbody>\n",
       "    <tr>\n",
       "      <th>0</th>\n",
       "      <td>Barking and Dagenham</td>\n",
       "      <td>593</td>\n",
       "      <td>619</td>\n",
       "      <td>763</td>\n",
       "      <td>172684</td>\n",
       "      <td>179030</td>\n",
       "      <td>181779</td>\n",
       "      <td>187</td>\n",
       "      <td>190</td>\n",
       "      <td>230</td>\n",
       "      <td>...</td>\n",
       "      <td>533</td>\n",
       "      <td>88794</td>\n",
       "      <td>97115</td>\n",
       "      <td>103796</td>\n",
       "      <td>2.23</td>\n",
       "      <td>4.57</td>\n",
       "      <td>2.32</td>\n",
       "      <td>4.42</td>\n",
       "      <td>2.95</td>\n",
       "      <td>5.14</td>\n",
       "    </tr>\n",
       "    <tr>\n",
       "      <th>1</th>\n",
       "      <td>Barnet</td>\n",
       "      <td>539</td>\n",
       "      <td>594</td>\n",
       "      <td>773</td>\n",
       "      <td>340435</td>\n",
       "      <td>344062</td>\n",
       "      <td>355955</td>\n",
       "      <td>212</td>\n",
       "      <td>204</td>\n",
       "      <td>292</td>\n",
       "      <td>...</td>\n",
       "      <td>481</td>\n",
       "      <td>171375</td>\n",
       "      <td>182529</td>\n",
       "      <td>194186</td>\n",
       "      <td>1.25</td>\n",
       "      <td>1.91</td>\n",
       "      <td>1.26</td>\n",
       "      <td>2.14</td>\n",
       "      <td>1.81</td>\n",
       "      <td>2.48</td>\n",
       "    </tr>\n",
       "    <tr>\n",
       "      <th>2</th>\n",
       "      <td>Barnsley</td>\n",
       "      <td>360</td>\n",
       "      <td>451</td>\n",
       "      <td>527</td>\n",
       "      <td>226755</td>\n",
       "      <td>244010</td>\n",
       "      <td>257883</td>\n",
       "      <td>148</td>\n",
       "      <td>186</td>\n",
       "      <td>212</td>\n",
       "      <td>...</td>\n",
       "      <td>315</td>\n",
       "      <td>116371</td>\n",
       "      <td>126724</td>\n",
       "      <td>130828</td>\n",
       "      <td>1.34</td>\n",
       "      <td>1.82</td>\n",
       "      <td>1.59</td>\n",
       "      <td>2.09</td>\n",
       "      <td>1.67</td>\n",
       "      <td>2.41</td>\n",
       "    </tr>\n",
       "    <tr>\n",
       "      <th>3</th>\n",
       "      <td>Bath and North East Somerset</td>\n",
       "      <td>456</td>\n",
       "      <td>421</td>\n",
       "      <td>494</td>\n",
       "      <td>178625</td>\n",
       "      <td>172975</td>\n",
       "      <td>189334</td>\n",
       "      <td>157</td>\n",
       "      <td>129</td>\n",
       "      <td>156</td>\n",
       "      <td>...</td>\n",
       "      <td>338</td>\n",
       "      <td>91599</td>\n",
       "      <td>88898</td>\n",
       "      <td>98444</td>\n",
       "      <td>1.80</td>\n",
       "      <td>3.26</td>\n",
       "      <td>1.53</td>\n",
       "      <td>3.28</td>\n",
       "      <td>1.72</td>\n",
       "      <td>3.43</td>\n",
       "    </tr>\n",
       "    <tr>\n",
       "      <th>4</th>\n",
       "      <td>Bedford</td>\n",
       "      <td>311</td>\n",
       "      <td>327</td>\n",
       "      <td>367</td>\n",
       "      <td>158185</td>\n",
       "      <td>164807</td>\n",
       "      <td>170463</td>\n",
       "      <td>138</td>\n",
       "      <td>145</td>\n",
       "      <td>156</td>\n",
       "      <td>...</td>\n",
       "      <td>211</td>\n",
       "      <td>82256</td>\n",
       "      <td>79733</td>\n",
       "      <td>87854</td>\n",
       "      <td>1.82</td>\n",
       "      <td>2.10</td>\n",
       "      <td>1.70</td>\n",
       "      <td>2.28</td>\n",
       "      <td>1.89</td>\n",
       "      <td>2.40</td>\n",
       "    </tr>\n",
       "  </tbody>\n",
       "</table>\n",
       "<p>5 rows × 25 columns</p>\n",
       "</div>"
      ],
      "text/plain": [
       "           local_authority_area  2008_cases_total  2013_cases_total  \\\n",
       "0          Barking and Dagenham               593               619   \n",
       "1                        Barnet               539               594   \n",
       "2                      Barnsley               360               451   \n",
       "3  Bath and North East Somerset               456               421   \n",
       "4                       Bedford               311               327   \n",
       "\n",
       "   2018_cases_total  2008_pop_total  2013_pop_total  2018_pop_total  \\\n",
       "0               763          172684          179030          181779   \n",
       "1               773          340435          344062          355955   \n",
       "2               527          226755          244010          257883   \n",
       "3               494          178625          172975          189334   \n",
       "4               367          158185          164807          170463   \n",
       "\n",
       "   2008_cases_male  2013_cases_male  2018_cases_male  ...  2018_cases_female  \\\n",
       "0              187              190              230  ...                533   \n",
       "1              212              204              292  ...                481   \n",
       "2              148              186              212  ...                315   \n",
       "3              157              129              156  ...                338   \n",
       "4              138              145              156  ...                211   \n",
       "\n",
       "   2008_pop_female  2013_pop_female  2018_pop_female  2008_male_rate_per1000  \\\n",
       "0            88794            97115           103796                    2.23   \n",
       "1           171375           182529           194186                    1.25   \n",
       "2           116371           126724           130828                    1.34   \n",
       "3            91599            88898            98444                    1.80   \n",
       "4            82256            79733            87854                    1.82   \n",
       "\n",
       "   2008_female_rate_per1000  2013_male_rate_per1000  2013_female_rate_per1000  \\\n",
       "0                      4.57                    2.32                      4.42   \n",
       "1                      1.91                    1.26                      2.14   \n",
       "2                      1.82                    1.59                      2.09   \n",
       "3                      3.26                    1.53                      3.28   \n",
       "4                      2.10                    1.70                      2.28   \n",
       "\n",
       "   2018_male_rate_per1000  2018_female_rate_per1000  \n",
       "0                    2.95                      5.14  \n",
       "1                    1.81                      2.48  \n",
       "2                    1.67                      2.41  \n",
       "3                    1.72                      3.43  \n",
       "4                    1.89                      2.40  \n",
       "\n",
       "[5 rows x 25 columns]"
      ]
     },
     "execution_count": 89,
     "metadata": {},
     "output_type": "execute_result"
    }
   ],
   "source": [
    "df.head()"
   ]
  },
  {
   "cell_type": "code",
   "execution_count": 234,
   "metadata": {},
   "outputs": [
    {
     "data": {
      "image/png": "[encoded data removed]",
      "text/plain": [
       "<Figure size 432x288 with 1 Axes>"
      ]
     },
     "metadata": {
      "needs_background": "light"
     },
     "output_type": "display_data"
    }
   ],
   "source": [
    "# Boxplot Number of Obesity(per 1000 male/female population)\n",
    "df_2018=df['2018_male_rate_per1000'],df['2018_female_rate_per1000']\n",
    "plt.boxplot(df_2018)\n",
    "plt.xticks([1,2], [\"male\",'female'])\n",
    "plt.ylabel(\"number of Obesity\")\n",
    "# And save the boxplot\n",
    "plt.savefig('gender_boxpolt')"
   ]
  },
  {
   "cell_type": "code",
   "execution_count": 158,
   "metadata": {},
   "outputs": [
    {
     "data": {
      "text/plain": [
       "(count    152.000000\n",
       " mean       2.469934\n",
       " std        0.987957\n",
       " min        0.680000\n",
       " 25%        1.810000\n",
       " 50%        2.330000\n",
       " 75%        2.920000\n",
       " max        6.590000\n",
       " Name: 2018_male_rate_per1000, dtype: float64,\n",
       " count    152.000000\n",
       " mean       4.345526\n",
       " std        1.839195\n",
       " min        1.180000\n",
       " 25%        3.037500\n",
       " 50%        3.960000\n",
       " 75%        5.140000\n",
       " max       10.780000\n",
       " Name: 2018_female_rate_per1000, dtype: float64)"
      ]
     },
     "execution_count": 158,
     "metadata": {},
     "output_type": "execute_result"
    }
   ],
   "source": [
    "# Then discribe the boxplots\n",
    "df['2018_male_rate_per1000'].describe(),df['2018_female_rate_per1000'].describe()"
   ]
  },
  {
   "cell_type": "code",
   "execution_count": 259,
   "metadata": {},
   "outputs": [
    {
     "name": "stdout",
     "output_type": "stream",
     "text": [
      "Number of areas that the female obesity rate is higher than male obesity rate: 150\n",
      "Number of areas that the female obesity rate is lower than male obesity rate: 2\n",
      "The proportion of the area female obesity rate is higher: 0.9868\n",
      "The proportion of the area male obesity rate is higher: 0.0132\n"
     ]
    }
   ],
   "source": [
    "# Count the areas that female obesity rate is higher or lower than male obesity rate and summarize the proportion\n",
    "df['2018_female>male']=df['2018_female_rate_per1000']>df['2018_male_rate_per1000']\n",
    "female_more=0\n",
    "male_more=0\n",
    "for i in df['2018_female>male']:\n",
    "    if i==True:\n",
    "        female_more+=1\n",
    "    else:\n",
    "        male_more+=1\n",
    "female_more_proportion=round(female_more/(female_more+male_more),4)\n",
    "male_more_proportion=round(male_more/(female_more+male_more),4)\n",
    "print('Number of areas that the female obesity rate is higher than male obesity rate:',female_more)\n",
    "print('Number of areas that the female obesity rate is lower than male obesity rate:',male_more) \n",
    "print('The proportion of the area female obesity rate is higher:',female_more_proportion)\n",
    "print('The proportion of the area male obesity rate is higher:',male_more_proportion)"
   ]
  },
  {
   "cell_type": "code",
   "execution_count": 270,
   "metadata": {},
   "outputs": [
    {
     "data": {
      "image/png": "[encoded data removed]",
      "text/plain": [
       "<Figure size 432x288 with 1 Axes>"
      ]
     },
     "metadata": {
      "needs_background": "light"
     },
     "output_type": "display_data"
    }
   ],
   "source": [
    "# Plot a scatter diagram\n",
    "# Creates the endpoints of the best-fit line\n",
    "x_lobf = [min(df['2018_male_rate_per1000']),max(df['2018_male_rate_per1000'])]\n",
    "y_lobf = [x_lobf[0]*gradient + intercept,x_lobf[1]*gradient + intercept]\n",
    "#set the axis limits\n",
    "x_min,x_max = 0,7\n",
    "y_min,y_max = 0,12\n",
    "plt.xlim([x_min,x_max])\n",
    "plt.ylim([y_min,y_max])\n",
    "# Create and save the plot\n",
    "plt.plot(df['2018_male_rate_per1000'],Y_2018_female_rate,'b.')\n",
    "plt.xlabel('number of male obesity (per 1000 pop)')\n",
    "plt.ylabel('number of female obesity (per 1000 pop)')\n",
    "plt.savefig('scatter_plot')"
   ]
  },
  {
   "cell_type": "code",
   "execution_count": 266,
   "metadata": {},
   "outputs": [
    {
     "name": "stdout",
     "output_type": "stream",
     "text": [
      "The Pearson Correlation Coefficient is: 0.8499\n"
     ]
    }
   ],
   "source": [
    "# Caculate the Pearson Correlation Coefficient between male and female rate\n",
    "r = np.corrcoef(df['2018_male_rate_per1000'], df['2018_female_rate_per1000'])\n",
    "print('The Pearson Correlation Coefficient is:',round(r[0][1],4)\n",
    "#当相关系数为1时，成为完全正相关；当相关系数为-1时，成为完全负相关；相关系数的绝对值越大，相关性越强；相关系数越接近于0，相关度越弱。"
   ]
  },
  {
   "cell_type": "code",
   "execution_count": 207,
   "metadata": {},
   "outputs": [
    {
     "name": "stdout",
     "output_type": "stream",
     "text": [
      "                               OLS Regression Results                               \n",
      "====================================================================================\n",
      "Dep. Variable:     2018_female_rate_per1000   R-squared:                       0.722\n",
      "Model:                                  OLS   Adj. R-squared:                  0.721\n",
      "Method:                       Least Squares   F-statistic:                     390.3\n",
      "Date:                      Sun, 08 Nov 2020   Prob (F-statistic):           1.39e-43\n",
      "Time:                              18:37:58   Log-Likelihood:                -210.41\n",
      "No. Observations:                       152   AIC:                             424.8\n",
      "Df Residuals:                           150   BIC:                             430.9\n",
      "Df Model:                                 1                                         \n",
      "Covariance Type:                  nonrobust                                         \n",
      "==========================================================================================\n",
      "                             coef    std err          t      P>|t|      [0.025      0.975]\n",
      "------------------------------------------------------------------------------------------\n",
      "const                      0.4376      0.213      2.055      0.042       0.017       0.858\n",
      "2018_male_rate_per1000     1.5822      0.080     19.755      0.000       1.424       1.740\n",
      "==============================================================================\n",
      "Omnibus:                        9.960   Durbin-Watson:                   1.926\n",
      "Prob(Omnibus):                  0.007   Jarque-Bera (JB):                9.991\n",
      "Skew:                           0.575   Prob(JB):                      0.00677\n",
      "Kurtosis:                       3.503   Cond. No.                         8.07\n",
      "==============================================================================\n",
      "\n",
      "Notes:\n",
      "[1] Standard Errors assume that the covariance matrix of the errors is correctly specified.\n"
     ]
    }
   ],
   "source": [
    "# Perform the Simple linear Regression procedure:\n",
    "X_2018_male_rate = sms.add_constant(df['2018_male_rate_per1000'])\n",
    "Y_2018_female_rate = df['2018_female_rate_per1000']\n",
    "regression_model_a = sms.OLS(Y_2018_female_rate, X_2018_male_rate)\n",
    "regression_model_b = regression_model_a.fit()\n",
    "# And print a summary of the results:\n",
    "print(regression_model_b.summary())"
   ]
  },
  {
   "cell_type": "code",
   "execution_count": 208,
   "metadata": {},
   "outputs": [
    {
     "name": "stdout",
     "output_type": "stream",
     "text": [
      "gradient  = 1.5822167420413489\n",
      "intercept = 0.437555056154056\n",
      "Rsquared  = 0.7223582262719135\n",
      "MSE       = 0.9454223582630622\n",
      "pvalue    = 1.3933609814402513e-43\n"
     ]
    }
   ],
   "source": [
    "# Store all the relevant values\n",
    "gradient  = regression_model_b.params[1]\n",
    "intercept = regression_model_b.params[0]\n",
    "Rsquared  = regression_model_b.rsquared\n",
    "MSE       = regression_model_b.mse_resid\n",
    "pvalue    = regression_model_b.f_pvalue\n",
    "# And print them\n",
    "print(\"gradient  =\", regression_model_b.params[1])\n",
    "print(\"intercept =\", regression_model_b.params[0])\n",
    "print(\"Rsquared  =\", regression_model_b.rsquared)\n",
    "print(\"MSE       =\", regression_model_b.mse_resid)\n",
    "print(\"pvalue    =\", regression_model_b.f_pvalue)"
   ]
  },
  {
   "cell_type": "code",
   "execution_count": 272,
   "metadata": {},
   "outputs": [
    {
     "data": {
      "image/png": "[encoded data removed]",
      "text/plain": [
       "<Figure size 432x288 with 1 Axes>"
      ]
     },
     "metadata": {
      "needs_background": "light"
     },
     "output_type": "display_data"
    }
   ],
   "source": [
    "# Plot the regression\n",
    "# Creates the endpoints of the best-fit line\n",
    "x_lobf = [min(df['2018_male_rate_per1000']),max(df['2018_male_rate_per1000'])]\n",
    "y_lobf = [x_lobf[0]*gradient + intercept,x_lobf[1]*gradient + intercept]\n",
    "#set the axis limits\n",
    "x_min,x_max = 0,7\n",
    "y_min,y_max = 0,12\n",
    "plt.xlim([x_min,x_max])\n",
    "plt.ylim([y_min,y_max])\n",
    "# Create and save the plot\n",
    "plt.plot(df['2018_male_rate_per1000'],Y_2018_female_rate,'b.',x_lobf,y_lobf,'r--')\n",
    "plt.xlabel('number of male obesity (per 1000 pop)')\n",
    "plt.ylabel('number of female obesity (per 1000 pop)')\n",
    "plt.savefig('regression_figure')"
   ]
  },
  {
   "cell_type": "code",
   "execution_count": 271,
   "metadata": {},
   "outputs": [
    {
     "data": {
      "image/png": "[encoded data removed]",
      "text/plain": [
       "<Figure size 432x288 with 1 Axes>"
      ]
     },
     "metadata": {
      "needs_background": "light"
     },
     "output_type": "display_data"
    }
   ],
   "source": [
    "# Residuals vs Fits Plot\n",
    "x_lobf = [0,7]\n",
    "y_lobf = [0,0]\n",
    "x_min,x_max = 0,7\n",
    "y_min,y_max = -4,4\n",
    "plt.xlim([x_min,x_max])\n",
    "plt.ylim([y_min,y_max])\n",
    "df['2018_residual'] = df['2018_female_rate_per1000'] - (df['2018_male_rate_per1000']*gradient + intercept)\n",
    "plt.plot(df['2018_male_rate_per1000'],df['2018_residual'],'b.',x_lobf,y_lobf,'r--')\n",
    "plt.xlabel('number of male obesity (per 1000 pop)')\n",
    "plt.ylabel('residual')\n",
    "plt.savefig('regression_residual')"
   ]
  },
  {
   "cell_type": "code",
   "execution_count": null,
   "metadata": {},
   "outputs": [],
   "source": []
  }
 ],
 "metadata": {
  "kernelspec": {
   "display_name": "Python 3",
   "language": "python",
   "name": "python3"
  },
  "language_info": {
   "codemirror_mode": {
    "name": "ipython",
    "version": 3
   },
   "file_extension": ".py",
   "mimetype": "text/x-python",
   "name": "python",
   "nbconvert_exporter": "python",
   "pygments_lexer": "ipython3",
   "version": "3.7.8"
  }
 },
 "nbformat": 4,
 "nbformat_minor": 4
}
